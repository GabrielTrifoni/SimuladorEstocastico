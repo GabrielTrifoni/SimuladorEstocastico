{
 "cells": [
  {
   "cell_type": "markdown",
   "id": "5b0f502f",
   "metadata": {},
   "source": [
    "# Gráfico"
   ]
  },
  {
   "cell_type": "code",
   "execution_count": 1,
   "id": "c53fb3f4",
   "metadata": {},
   "outputs": [],
   "source": [
    "import math\n",
    "import matplotlib.pyplot as plt\n",
    "import numpy as np"
   ]
  },
  {
   "cell_type": "code",
   "execution_count": 2,
   "id": "23f70f85",
   "metadata": {},
   "outputs": [
    {
     "data": {
      "image/png": "[encoded data removed]",
      "text/plain": [
       "<Figure size 432x288 with 1 Axes>"
      ]
     },
     "metadata": {
      "needs_background": "light"
     },
     "output_type": "display_data"
    }
   ],
   "source": [
    "MAX = 3000\n",
    "a = 16807\n",
    "c = 0\n",
    "#M = 1024.\n",
    "M = 2 ** 31 - 1\n",
    "\n",
    "i = 0\n",
    "result = 11\n",
    "x = []\n",
    "y = []\n",
    "lista = []\n",
    "\n",
    "for i in range(0, MAX):\n",
    "    anterior = result\n",
    "    result = ((a * anterior) + c) % M\n",
    "\n",
    "    x.append(anterior/M)\n",
    "    y.append(result/M)\n",
    "        \n",
    "    lista.append(result/M)\n",
    "\n",
    "plt.plot(x,y,'ro')\n",
    "plt.show()\n"
   ]
  },
  {
   "cell_type": "markdown",
   "id": "fb8d266d",
   "metadata": {},
   "source": [
    "# Média e Desvio padrão"
   ]
  },
  {
   "cell_type": "code",
   "execution_count": 3,
   "id": "bd1e91dd",
   "metadata": {},
   "outputs": [
    {
     "name": "stdout",
     "output_type": "stream",
     "text": [
      "Media:  0.49714258090242613\n",
      "Desvio padrão:  0.28644890967719494\n"
     ]
    }
   ],
   "source": [
    "soma = 0\n",
    "\n",
    "for i in range(0, MAX):\n",
    "    soma+=lista[i]\n",
    "media = soma/MAX\n",
    "print(\"Media: \", media)\n",
    "#print(np.average(lista))\n",
    "print(\"Desvio padrão: \", np.std(lista))"
   ]
  },
  {
   "cell_type": "markdown",
   "id": "d4b438ad",
   "metadata": {},
   "source": []
  },
  {
   "cell_type": "markdown",
   "id": "a8464c18",
   "metadata": {},
   "source": [
    "# Correlação"
   ]
  },
  {
   "cell_type": "code",
   "execution_count": 4,
   "id": "d0f16dba",
   "metadata": {},
   "outputs": [
    {
     "name": "stdout",
     "output_type": "stream",
     "text": [
      "Correlacao:  0.021535966032262325\n"
     ]
    }
   ],
   "source": [
    "somaMultXY = 0\n",
    "somaX = 0\n",
    "somaY = 0\n",
    "somaX2 = 0\n",
    "somaY2 = 0\n",
    "\n",
    "for i in range(MAX - 1):\n",
    "    somaMultXY += x[i] * y[i]\n",
    "    \n",
    "    somaX += x[i]\n",
    "    somaY += y[i]\n",
    "    \n",
    "    \n",
    "    somaX2 += x[i] ** 2\n",
    "    somaY2 += y[i] ** 2\n",
    "    \n",
    "numerador = (MAX * somaMultXY - (somaX * somaY))\n",
    "denominador = (math.sqrt((MAX * somaX2) - (somaX ** 2))) * (math.sqrt((MAX * somaY2) - (somaY ** 2)))\n",
    "correlacao = numerador / denominador\n",
    "\n",
    "print(\"Correlacao: \", correlacao)"
   ]
  },
  {
   "cell_type": "markdown",
   "id": "44bdaad4",
   "metadata": {},
   "source": [
    "# Covariância"
   ]
  },
  {
   "cell_type": "code",
   "execution_count": 5,
   "id": "f10c2534",
   "metadata": {},
   "outputs": [
    {
     "name": "stdout",
     "output_type": "stream",
     "text": [
      "Covariancia:  0.0017702844568387559\n"
     ]
    }
   ],
   "source": [
    "covariancia = numerador / (MAX * (MAX-1))\n",
    "print(\"Covariancia: \", covariancia)"
   ]
  },
  {
   "cell_type": "markdown",
   "id": "98ced7fa",
   "metadata": {},
   "source": [
    "# Qui Quadrado"
   ]
  },
  {
   "cell_type": "code",
   "execution_count": 6,
   "id": "ceb79271",
   "metadata": {},
   "outputs": [
    {
     "name": "stdout",
     "output_type": "stream",
     "text": [
      "Qui Quadrado = 4.58\n"
     ]
    }
   ],
   "source": [
    "somaQui = 0\n",
    "\n",
    "intervalos = [[0,0.1],[0.1,0.2],[0.2,0.3],[0.3,0.4],[0.4,0.5],[0.5,0.6],[0.6,0.7],[0.7,0.8],[0.8,0.9],[0.9,1]]\n",
    "n = []\n",
    "\n",
    "contag = 0\n",
    "\n",
    "for i in range(10):\n",
    "    for j in range(0, MAX):\n",
    "        if x[j] >= intervalos[i][0] and x[j] < intervalos[i][1]:\n",
    "            contag += 1\n",
    "    n.append(contag)\n",
    "    contag = 0\n",
    "\n",
    "for i in range(10):\n",
    "    numerador = (n[i] - (MAX / 10)) ** 2\n",
    "    denominador = MAX  / 10\n",
    "    somaQui += numerador / denominador\n",
    "    \n",
    "print(f'Qui Quadrado = {somaQui}')"
   ]
  },
  {
   "cell_type": "markdown",
   "id": "66d7911f",
   "metadata": {},
   "source": [
    "# Monte Carlo"
   ]
  },
  {
   "cell_type": "code",
   "execution_count": 7,
   "id": "fdecf444",
   "metadata": {},
   "outputs": [],
   "source": [
    "a = 3\n",
    "b = 5\n",
    "\n",
    "f = []\n",
    "\n",
    "for i in range(MAX):\n",
    "    f.append((b-a) * y[i] + a)"
   ]
  },
  {
   "cell_type": "markdown",
   "id": "e0b8f570",
   "metadata": {},
   "source": [
    "# Distribuição Exponencial"
   ]
  },
  {
   "cell_type": "code",
   "execution_count": 8,
   "id": "656caf95",
   "metadata": {
    "scrolled": true
   },
   "outputs": [
    {
     "data": {
      "image/png": "[encoded data removed]",
      "text/plain": [
       "<Figure size 432x288 with 1 Axes>"
      ]
     },
     "metadata": {
      "needs_background": "light"
     },
     "output_type": "display_data"
    }
   ],
   "source": [
    "alpha = 1 / media\n",
    "fdx = []\n",
    "exp = []\n",
    "maiorFDX = 0\n",
    "\n",
    "for i in range(MAX):\n",
    "    numerador = math.log(y[i])\n",
    "    \n",
    "    fdx.append(-1 * (numerador / alpha))\n",
    "    \n",
    "\n",
    "for i in range(MAX):\n",
    "    exp.append(alpha * math.exp(-1 * alpha * fdx[i]))\n",
    "    \n",
    "axis = [0,10,0,2]\n",
    "plt.plot(fdx, exp, 'ro')\n",
    "plt.axis(axis)\n",
    "plt.show()"
   ]
  },
  {
   "cell_type": "markdown",
   "id": "5f5db4b9",
   "metadata": {},
   "source": [
    "# Weibull"
   ]
  },
  {
   "cell_type": "code",
   "execution_count": null,
   "id": "a5ca9f96",
   "metadata": {},
   "outputs": [],
   "source": []
  },
  {
   "cell_type": "markdown",
   "id": "3f7be44e",
   "metadata": {},
   "source": [
    "# Erlang"
   ]
  },
  {
   "cell_type": "code",
   "execution_count": null,
   "id": "1569c824",
   "metadata": {},
   "outputs": [],
   "source": []
  },
  {
   "cell_type": "markdown",
   "id": "4d0fc3c0",
   "metadata": {},
   "source": [
    "# Monte Carlo Triangular"
   ]
  },
  {
   "cell_type": "code",
   "execution_count": null,
   "id": "ea4faa09",
   "metadata": {},
   "outputs": [],
   "source": []
  },
  {
   "cell_type": "markdown",
   "id": "434ef573",
   "metadata": {},
   "source": [
    "# Normal"
   ]
  },
  {
   "cell_type": "code",
   "execution_count": null,
   "id": "96e5f635",
   "metadata": {},
   "outputs": [],
   "source": []
  },
  {
   "cell_type": "markdown",
   "id": "b30872c7",
   "metadata": {},
   "source": [
    "# Poisson"
   ]
  },
  {
   "cell_type": "code",
   "execution_count": null,
   "id": "fc16f1d1",
   "metadata": {},
   "outputs": [],
   "source": []
  },
  {
   "cell_type": "markdown",
   "id": "66b28b29",
   "metadata": {},
   "source": [
    "# Simulador"
   ]
  },
  {
   "cell_type": "code",
   "execution_count": null,
   "id": "e32638ef",
   "metadata": {},
   "outputs": [],
   "source": []
  }
 ],
 "metadata": {
  "kernelspec": {
   "display_name": "Python 3 (ipykernel)",
   "language": "python",
   "name": "python3"
  },
  "language_info": {
   "codemirror_mode": {
    "name": "ipython",
    "version": 3
   },
   "file_extension": ".py",
   "mimetype": "text/x-python",
   "name": "python",
   "nbconvert_exporter": "python",
   "pygments_lexer": "ipython3",
   "version": "3.9.7"
  }
 },
 "nbformat": 4,
 "nbformat_minor": 5
}
